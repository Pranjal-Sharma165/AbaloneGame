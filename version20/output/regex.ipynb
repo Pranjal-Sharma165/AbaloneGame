{
 "cells": [
  {
   "metadata": {},
   "cell_type": "markdown",
   "source": "(?s)(\"\"\".*?\"\"\"|'''.*?''')",
   "id": "616f3e81cdd1b3e5"
  },
  {
   "metadata": {},
   "cell_type": "markdown",
   "source": "^\\s*#.*$",
   "id": "57d92e0abd1d360a"
  }
 ],
 "metadata": {
  "kernelspec": {
   "display_name": "Python 3",
   "language": "python",
   "name": "python3"
  },
  "language_info": {
   "codemirror_mode": {
    "name": "ipython",
    "version": 2
   },
   "file_extension": ".py",
   "mimetype": "text/x-python",
   "name": "python",
   "nbconvert_exporter": "python",
   "pygments_lexer": "ipython2",
   "version": "2.7.6"
  }
 },
 "nbformat": 4,
 "nbformat_minor": 5
}
